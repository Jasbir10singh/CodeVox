{
 "cells": [
  {
   "cell_type": "code",
   "execution_count": 1,
   "metadata": {},
   "outputs": [],
   "source": [
    "import pandas as pd\n",
    "import numpy as np\n",
    "import matplotlib.pyplot as plt\n",
    "from apyori import apriori"
   ]
  },
  {
   "cell_type": "code",
   "execution_count": 2,
   "metadata": {},
   "outputs": [],
   "source": [
    "store_data=pd.read_csv(r'C:\\Jasbir\\Data Science Project Capgemini\\apyori\\Association_Dataset_NPP.csv',encoding='ISO-8859-1')"
   ]
  },
  {
   "cell_type": "code",
   "execution_count": 3,
   "metadata": {},
   "outputs": [
    {
     "data": {
      "text/html": [
       "<div>\n",
       "<style scoped>\n",
       "    .dataframe tbody tr th:only-of-type {\n",
       "        vertical-align: middle;\n",
       "    }\n",
       "\n",
       "    .dataframe tbody tr th {\n",
       "        vertical-align: top;\n",
       "    }\n",
       "\n",
       "    .dataframe thead th {\n",
       "        text-align: right;\n",
       "    }\n",
       "</style>\n",
       "<table border=\"1\" class=\"dataframe\">\n",
       "  <thead>\n",
       "    <tr style=\"text-align: right;\">\n",
       "      <th></th>\n",
       "      <th>CommitID</th>\n",
       "      <th>AuthorName</th>\n",
       "      <th>AuthorEmail</th>\n",
       "      <th>DateTime</th>\n",
       "      <th>ModifiedFile</th>\n",
       "      <th>FileExtn</th>\n",
       "      <th>No.ChangesINfile</th>\n",
       "      <th>No.Files.Modified</th>\n",
       "      <th>insertions</th>\n",
       "      <th>deletions</th>\n",
       "      <th>Comment</th>\n",
       "    </tr>\n",
       "  </thead>\n",
       "  <tbody>\n",
       "    <tr>\n",
       "      <th>0</th>\n",
       "      <td>000e447cb98aae911700a069f3fd563ded584d24</td>\n",
       "      <td>Don Ho</td>\n",
       "      <td>don.h@free.fr</td>\n",
       "      <td>Sep-5-2016-01:48:42</td>\n",
       "      <td>PowerEditor/src/NppIO.cpp                     ...</td>\n",
       "      <td>cpp</td>\n",
       "      <td>9.0</td>\n",
       "      <td>2.0</td>\n",
       "      <td>9</td>\n",
       "      <td>2.0</td>\n",
       "      <td>c(\"Fix \\\"Folder as Workspace\\\" not updating re...</td>\n",
       "    </tr>\n",
       "    <tr>\n",
       "      <th>1</th>\n",
       "      <td>000e447cb98aae911700a069f3fd563ded584d24</td>\n",
       "      <td>Don Ho</td>\n",
       "      <td>don.h@free.fr</td>\n",
       "      <td>Sep-5-2016-01:48:42</td>\n",
       "      <td>.../ReadDirectoryChanges/ReadDirectoryChangesP...</td>\n",
       "      <td>cpp</td>\n",
       "      <td>2.0</td>\n",
       "      <td>2.0</td>\n",
       "      <td>9</td>\n",
       "      <td>2.0</td>\n",
       "      <td>c(\"Fix \\\"Folder as Workspace\\\" not updating re...</td>\n",
       "    </tr>\n",
       "    <tr>\n",
       "      <th>2</th>\n",
       "      <td>0011deec48da5e9f99a24cca4f58fb77b7e03593</td>\n",
       "      <td>Don Ho</td>\n",
       "      <td>don.h@free.fr</td>\n",
       "      <td>Aug-31-2012-19:14:00</td>\n",
       "      <td>PowerEditor/src/Notepad_plus.cpp</td>\n",
       "      <td>cpp</td>\n",
       "      <td>274.0</td>\n",
       "      <td>7.0</td>\n",
       "      <td>278</td>\n",
       "      <td>10.0</td>\n",
       "      <td>c(\"git-svn-id: svn://svn.tuxfamily.org/svnroot...</td>\n",
       "    </tr>\n",
       "    <tr>\n",
       "      <th>3</th>\n",
       "      <td>0011deec48da5e9f99a24cca4f58fb77b7e03593</td>\n",
       "      <td>Don Ho</td>\n",
       "      <td>don.h@free.fr</td>\n",
       "      <td>Aug-31-2012-19:14:00</td>\n",
       "      <td>PowerEditor/src/Notepad_plus.h</td>\n",
       "      <td>h</td>\n",
       "      <td>3.0</td>\n",
       "      <td>7.0</td>\n",
       "      <td>278</td>\n",
       "      <td>10.0</td>\n",
       "      <td>c(\"git-svn-id: svn://svn.tuxfamily.org/svnroot...</td>\n",
       "    </tr>\n",
       "    <tr>\n",
       "      <th>4</th>\n",
       "      <td>0011deec48da5e9f99a24cca4f58fb77b7e03593</td>\n",
       "      <td>Don Ho</td>\n",
       "      <td>don.h@free.fr</td>\n",
       "      <td>Aug-31-2012-19:14:00</td>\n",
       "      <td>PowerEditor/src/NppCommands.cpp</td>\n",
       "      <td>cpp</td>\n",
       "      <td>4.0</td>\n",
       "      <td>7.0</td>\n",
       "      <td>278</td>\n",
       "      <td>10.0</td>\n",
       "      <td>c(\"git-svn-id: svn://svn.tuxfamily.org/svnroot...</td>\n",
       "    </tr>\n",
       "  </tbody>\n",
       "</table>\n",
       "</div>"
      ],
      "text/plain": [
       "                                   CommitID AuthorName    AuthorEmail  \\\n",
       "0  000e447cb98aae911700a069f3fd563ded584d24     Don Ho  don.h@free.fr   \n",
       "1  000e447cb98aae911700a069f3fd563ded584d24     Don Ho  don.h@free.fr   \n",
       "2  0011deec48da5e9f99a24cca4f58fb77b7e03593     Don Ho  don.h@free.fr   \n",
       "3  0011deec48da5e9f99a24cca4f58fb77b7e03593     Don Ho  don.h@free.fr   \n",
       "4  0011deec48da5e9f99a24cca4f58fb77b7e03593     Don Ho  don.h@free.fr   \n",
       "\n",
       "               DateTime                                       ModifiedFile  \\\n",
       "0   Sep-5-2016-01:48:42  PowerEditor/src/NppIO.cpp                     ...   \n",
       "1   Sep-5-2016-01:48:42  .../ReadDirectoryChanges/ReadDirectoryChangesP...   \n",
       "2  Aug-31-2012-19:14:00            PowerEditor/src/Notepad_plus.cpp          \n",
       "3  Aug-31-2012-19:14:00            PowerEditor/src/Notepad_plus.h            \n",
       "4  Aug-31-2012-19:14:00            PowerEditor/src/NppCommands.cpp           \n",
       "\n",
       "                                      FileExtn  No.ChangesINfile  \\\n",
       "0  cpp                                                       9.0   \n",
       "1                                 cpp                        2.0   \n",
       "2                                   cpp                    274.0   \n",
       "3                                   h                        3.0   \n",
       "4                                  cpp                       4.0   \n",
       "\n",
       "   No.Files.Modified  insertions  deletions  \\\n",
       "0                2.0           9        2.0   \n",
       "1                2.0           9        2.0   \n",
       "2                7.0         278       10.0   \n",
       "3                7.0         278       10.0   \n",
       "4                7.0         278       10.0   \n",
       "\n",
       "                                             Comment  \n",
       "0  c(\"Fix \\\"Folder as Workspace\\\" not updating re...  \n",
       "1  c(\"Fix \\\"Folder as Workspace\\\" not updating re...  \n",
       "2  c(\"git-svn-id: svn://svn.tuxfamily.org/svnroot...  \n",
       "3  c(\"git-svn-id: svn://svn.tuxfamily.org/svnroot...  \n",
       "4  c(\"git-svn-id: svn://svn.tuxfamily.org/svnroot...  "
      ]
     },
     "execution_count": 3,
     "metadata": {},
     "output_type": "execute_result"
    }
   ],
   "source": [
    "store_data.head(5)"
   ]
  },
  {
   "cell_type": "code",
   "execution_count": 4,
   "metadata": {},
   "outputs": [
    {
     "name": "stdout",
     "output_type": "stream",
     "text": [
      "<class 'pandas.core.frame.DataFrame'>\n",
      "RangeIndex: 15033 entries, 0 to 15032\n",
      "Data columns (total 11 columns):\n",
      "CommitID             15033 non-null object\n",
      "AuthorName           15033 non-null object\n",
      "AuthorEmail          15033 non-null object\n",
      "DateTime             15033 non-null object\n",
      "ModifiedFile         15033 non-null object\n",
      "FileExtn             14895 non-null object\n",
      "No.ChangesINfile     15031 non-null float64\n",
      "No.Files.Modified    15031 non-null float64\n",
      "insertions           15033 non-null int64\n",
      "deletions            14956 non-null float64\n",
      "Comment              15033 non-null object\n",
      "dtypes: float64(3), int64(1), object(7)\n",
      "memory usage: 1.3+ MB\n"
     ]
    }
   ],
   "source": [
    "store_data.info()"
   ]
  },
  {
   "cell_type": "code",
   "execution_count": 5,
   "metadata": {},
   "outputs": [],
   "source": [
    "New_store_data=store_data.drop(['AuthorName','AuthorEmail','DateTime','FileExtn','No.ChangesINfile','No.Files.Modified','insertions','deletions','Comment'],axis=1)"
   ]
  },
  {
   "cell_type": "code",
   "execution_count": 6,
   "metadata": {},
   "outputs": [
    {
     "name": "stdout",
     "output_type": "stream",
     "text": [
      "<class 'pandas.core.frame.DataFrame'>\n",
      "RangeIndex: 15033 entries, 0 to 15032\n",
      "Data columns (total 2 columns):\n",
      "CommitID        15033 non-null object\n",
      "ModifiedFile    15033 non-null object\n",
      "dtypes: object(2)\n",
      "memory usage: 235.0+ KB\n"
     ]
    }
   ],
   "source": [
    "New_store_data.info()"
   ]
  },
  {
   "cell_type": "code",
   "execution_count": 7,
   "metadata": {},
   "outputs": [
    {
     "data": {
      "text/html": [
       "<div>\n",
       "<style scoped>\n",
       "    .dataframe tbody tr th:only-of-type {\n",
       "        vertical-align: middle;\n",
       "    }\n",
       "\n",
       "    .dataframe tbody tr th {\n",
       "        vertical-align: top;\n",
       "    }\n",
       "\n",
       "    .dataframe thead th {\n",
       "        text-align: right;\n",
       "    }\n",
       "</style>\n",
       "<table border=\"1\" class=\"dataframe\">\n",
       "  <thead>\n",
       "    <tr style=\"text-align: right;\">\n",
       "      <th></th>\n",
       "      <th>CommitID</th>\n",
       "      <th>ModifiedFile</th>\n",
       "    </tr>\n",
       "  </thead>\n",
       "  <tbody>\n",
       "    <tr>\n",
       "      <th>0</th>\n",
       "      <td>000e447cb98aae911700a069f3fd563ded584d24</td>\n",
       "      <td>PowerEditor/src/NppIO.cpp                     ...</td>\n",
       "    </tr>\n",
       "    <tr>\n",
       "      <th>1</th>\n",
       "      <td>000e447cb98aae911700a069f3fd563ded584d24</td>\n",
       "      <td>.../ReadDirectoryChanges/ReadDirectoryChangesP...</td>\n",
       "    </tr>\n",
       "    <tr>\n",
       "      <th>2</th>\n",
       "      <td>0011deec48da5e9f99a24cca4f58fb77b7e03593</td>\n",
       "      <td>PowerEditor/src/Notepad_plus.cpp</td>\n",
       "    </tr>\n",
       "    <tr>\n",
       "      <th>3</th>\n",
       "      <td>0011deec48da5e9f99a24cca4f58fb77b7e03593</td>\n",
       "      <td>PowerEditor/src/Notepad_plus.h</td>\n",
       "    </tr>\n",
       "    <tr>\n",
       "      <th>4</th>\n",
       "      <td>0011deec48da5e9f99a24cca4f58fb77b7e03593</td>\n",
       "      <td>PowerEditor/src/NppCommands.cpp</td>\n",
       "    </tr>\n",
       "  </tbody>\n",
       "</table>\n",
       "</div>"
      ],
      "text/plain": [
       "                                   CommitID  \\\n",
       "0  000e447cb98aae911700a069f3fd563ded584d24   \n",
       "1  000e447cb98aae911700a069f3fd563ded584d24   \n",
       "2  0011deec48da5e9f99a24cca4f58fb77b7e03593   \n",
       "3  0011deec48da5e9f99a24cca4f58fb77b7e03593   \n",
       "4  0011deec48da5e9f99a24cca4f58fb77b7e03593   \n",
       "\n",
       "                                        ModifiedFile  \n",
       "0  PowerEditor/src/NppIO.cpp                     ...  \n",
       "1  .../ReadDirectoryChanges/ReadDirectoryChangesP...  \n",
       "2            PowerEditor/src/Notepad_plus.cpp         \n",
       "3            PowerEditor/src/Notepad_plus.h           \n",
       "4            PowerEditor/src/NppCommands.cpp          "
      ]
     },
     "execution_count": 7,
     "metadata": {},
     "output_type": "execute_result"
    }
   ],
   "source": [
    "New_store_data.head(5)"
   ]
  },
  {
   "cell_type": "code",
   "execution_count": 8,
   "metadata": {},
   "outputs": [],
   "source": [
    "records = []\n",
    "for i in range(0, 15031):\n",
    "    records.append([str(store_data.values[i,j]) for j in range(0, 2)])"
   ]
  },
  {
   "cell_type": "code",
   "execution_count": 9,
   "metadata": {},
   "outputs": [],
   "source": [
    "association_rules = apriori(records, min_support=0.0045, min_confidence=0.2, min_lift=3, min_length=2)\n",
    "association_results = list(association_rules)"
   ]
  },
  {
   "cell_type": "code",
   "execution_count": 10,
   "metadata": {},
   "outputs": [
    {
     "name": "stdout",
     "output_type": "stream",
     "text": [
      "9\n"
     ]
    }
   ],
   "source": [
    "print(len(association_results))"
   ]
  },
  {
   "cell_type": "code",
   "execution_count": 11,
   "metadata": {},
   "outputs": [
    {
     "name": "stdout",
     "output_type": "stream",
     "text": [
      "RelationRecord(items=frozenset({'Damien GERARD', '0617b20e691337f50ba13e5cf8319b8a814bbce8'}), support=0.005521921362517464, ordered_statistics=[OrderedStatistic(items_base=frozenset({'0617b20e691337f50ba13e5cf8319b8a814bbce8'}), items_add=frozenset({'Damien GERARD'}), confidence=1.0, lift=50.10333333333333), OrderedStatistic(items_base=frozenset({'Damien GERARD'}), items_add=frozenset({'0617b20e691337f50ba13e5cf8319b8a814bbce8'}), confidence=0.27666666666666667, lift=50.10333333333333)])\n"
     ]
    }
   ],
   "source": [
    "print(association_results[0])"
   ]
  },
  {
   "cell_type": "code",
   "execution_count": 12,
   "metadata": {},
   "outputs": [
    {
     "name": "stdout",
     "output_type": "stream",
     "text": [
      "RelationRecord(items=frozenset({'donho', 'ec7b0c2da93fcf89188cbc438dfa71c54df8ca49'}), support=0.03998403299846983, ordered_statistics=[OrderedStatistic(items_base=frozenset({'donho'}), items_add=frozenset({'ec7b0c2da93fcf89188cbc438dfa71c54df8ca49'}), confidence=0.22851711026615973, lift=5.715209125475286), OrderedStatistic(items_base=frozenset({'ec7b0c2da93fcf89188cbc438dfa71c54df8ca49'}), items_add=frozenset({'donho'}), confidence=1.0, lift=5.715209125475286)])\n"
     ]
    }
   ],
   "source": [
    "print(association_results[8])"
   ]
  },
  {
   "cell_type": "code",
   "execution_count": 13,
   "metadata": {},
   "outputs": [],
   "source": [
    "for CommitID in association_rules:\n",
    "# first index of the inner list\n",
    "# Contains base item and add item\n",
    "    ModifiedFile  = CommitID[0] \n",
    "    CommitIDs = [x for x in ModifiedFile ]\n",
    "    print(\"Rule: \" + CommitIDs[0] + \" -> \" + CommitIDs[1])\n",
    "\n",
    "#second index of the inner list\n",
    "    print(\"Support: \" + str(CommitID[1]))\n",
    "\n",
    " #third index of the list located at 0th\n",
    "#of the third index of the inner list\n",
    "\n",
    "    print(\"Confidence: \" + str(CommitID[2][0][2]))\n",
    "    print(\"Lift: \" + str(CommitID[2][0][3]))\n",
    "    print(\"=====================================\")"
   ]
  },
  {
   "cell_type": "code",
   "execution_count": null,
   "metadata": {},
   "outputs": [],
   "source": []
  }
 ],
 "metadata": {
  "kernelspec": {
   "display_name": "Python 3",
   "language": "python",
   "name": "python3"
  },
  "language_info": {
   "codemirror_mode": {
    "name": "ipython",
    "version": 3
   },
   "file_extension": ".py",
   "mimetype": "text/x-python",
   "name": "python",
   "nbconvert_exporter": "python",
   "pygments_lexer": "ipython3",
   "version": "3.7.3"
  }
 },
 "nbformat": 4,
 "nbformat_minor": 2
}
